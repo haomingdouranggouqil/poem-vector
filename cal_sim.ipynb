{
 "cells": [
  {
   "cell_type": "markdown",
   "metadata": {},
   "source": [
    "### word2vec"
   ]
  },
  {
   "cell_type": "code",
   "execution_count": 1,
   "metadata": {},
   "outputs": [],
   "source": [
    "from gensim.models import Word2Vec\n",
    "\n",
    "model = Word2Vec.load('model.bin')"
   ]
  },
  {
   "cell_type": "code",
   "execution_count": 2,
   "metadata": {},
   "outputs": [],
   "source": [
    "import numpy as np\n",
    "\n",
    "def find_most_similar(word, model, top_n=5):\n",
    "    #示例：查找与word最相似的词top_n个词\n",
    "    try:\n",
    "        most_similar_words = model.wv.most_similar(word, topn=top_n)\n",
    "        return most_similar_words\n",
    "    except KeyError:\n",
    "        return f\"'{word}'不在词表中\"\n",
    "\n",
    "def char_sim(char1, char2, model=model):\n",
    "    #计算char1与char2的相似度\n",
    "    vector1 = model.wv[char1]\n",
    "    vector2 = model.wv[char2]\n",
    "    dot_product = np.dot(vector1, vector2)\n",
    "    norm1 = np.linalg.norm(vector1)\n",
    "    norm2 = np.linalg.norm(vector2)\n",
    "    cosine_similarity = abs(dot_product / (norm1 * norm2))\n",
    "    print(char1 + \"----与-----\" + char2 + \"----相似度为：\" + str(round(cosine_similarity, 2)))\n",
    "    return round(cosine_similarity, 3)"
   ]
  },
  {
   "cell_type": "code",
   "execution_count": 9,
   "metadata": {},
   "outputs": [
    {
     "name": "stdout",
     "output_type": "stream",
     "text": [
      "与丁令威最相似的五个词：\n",
      "华表: 0.5395\n",
      "令威: 0.4730\n",
      "鹤: 0.4634\n",
      "人民城郭: 0.4254\n",
      "辽东: 0.4174\n",
      "\n",
      "与谢玄晖最相似的五个词：\n",
      "玄晖: 0.4254\n",
      "自忘机: 0.3644\n",
      "澄江: 0.3600\n",
      "小谢: 0.3539\n",
      "夕晖: 0.3534\n"
     ]
    }
   ],
   "source": [
    "# 示例：查找与 'example_word' 最相似的词\n",
    "print(\"与丁令威最相似的五个词：\")\n",
    "similar_words = find_most_similar('丁令威', model)\n",
    "for similar_word, similarity in similar_words:\n",
    "    print(f\"{similar_word}: {similarity:.4f}\")\n",
    "\n",
    "print(\"\")\n",
    "print(\"与谢玄晖最相似的五个词：\")\n",
    "similar_words = find_most_similar('谢玄晖', model)\n",
    "for similar_word, similarity in similar_words:\n",
    "    print(f\"{similar_word}: {similarity:.4f}\")"
   ]
  },
  {
   "cell_type": "code",
   "execution_count": 7,
   "metadata": {},
   "outputs": [
    {
     "name": "stdout",
     "output_type": "stream",
     "text": [
      "滚滚----与-----萧萧----相似度为：0.31\n",
      "滚----与-----萧----相似度为：0.06\n",
      "\n",
      "五柳----与-----彭泽----相似度为：0.53\n",
      "柳----与-----彭----相似度为：0.12\n",
      "\n",
      "丁令威----与-----鹤----相似度为：0.46\n",
      "丁----与-----鹤----相似度为：0.23\n",
      "\n",
      "彳亍----与-----行----相似度为：0.31\n",
      "\n",
      "鱼----与-----书----相似度为：0.44\n",
      "鱼----与-----斯----相似度为：0.25\n",
      "鲤鱼----与-----家书----相似度为：0.33\n"
     ]
    },
    {
     "data": {
      "text/plain": [
       "0.328"
      ]
     },
     "execution_count": 7,
     "metadata": {},
     "output_type": "execute_result"
    }
   ],
   "source": [
    "char_sim(\"滚滚\", \"萧萧\")\n",
    "char_sim(\"滚\", \"萧\")\n",
    "print(\"\")\n",
    "char_sim(\"五柳\", \"彭泽\")\n",
    "char_sim(\"柳\", \"彭\")\n",
    "print(\"\")\n",
    "char_sim(\"丁令威\", \"鹤\")\n",
    "char_sim(\"丁\", \"鹤\")\n",
    "print(\"\")\n",
    "char_sim(\"彳亍\", \"行\")\n",
    "print(\"\")\n",
    "char_sim(\"鱼\", \"书\")\n",
    "char_sim(\"鱼\", \"斯\")\n",
    "char_sim(\"鲤鱼\", \"家书\")"
   ]
  },
  {
   "cell_type": "markdown",
   "metadata": {},
   "source": [
    "### bert-word-poem"
   ]
  },
  {
   "cell_type": "code",
   "execution_count": 10,
   "metadata": {},
   "outputs": [],
   "source": [
    "import numpy as np\n",
    "\n",
    "vector_file = open('word_vec.txt', 'r', encoding='utf-8', errors='ignore')\n",
    "vector = vector_file.read().split('\\n')\n",
    "char_dic = {}\n",
    "\n",
    "for v in vector:\n",
    "    v = v.split()\n",
    "    char = v[0]\n",
    "    vec_str = v[1:]\n",
    "    vec_list = [float(s) for s in vec_str]\n",
    "    char_dic[char] = vec_list\n",
    "\n",
    "\n",
    "word_list = list(char_dic.keys())"
   ]
  },
  {
   "cell_type": "code",
   "execution_count": 11,
   "metadata": {},
   "outputs": [],
   "source": [
    "def char_sim(char1, char2):\n",
    "    vector1 = char_dic[char1]\n",
    "    vector2 = char_dic[char2]\n",
    "    dot_product = np.dot(vector1, vector2)\n",
    "    norm1 = np.linalg.norm(vector1)\n",
    "    norm2 = np.linalg.norm(vector2)\n",
    "    cosine_similarity = abs(dot_product / (norm1 * norm2))\n",
    "    print(char1 + \"-----与-----\" + char2 + \"-----相似度为：\" + str(round(cosine_similarity, 2)))\n"
   ]
  },
  {
   "cell_type": "code",
   "execution_count": 13,
   "metadata": {},
   "outputs": [
    {
     "name": "stdout",
     "output_type": "stream",
     "text": [
      "滚滚-----与-----萧萧-----相似度为：0.19\n",
      "滚-----与-----萧-----相似度为：0.25\n",
      "\n",
      "五柳-----与-----彭泽-----相似度为：0.45\n",
      "柳-----与-----彭-----相似度为：0.22\n",
      "\n",
      "丁令威-----与-----鹤-----相似度为：0.31\n",
      "丁-----与-----鹤-----相似度为：0.16\n",
      "\n",
      "彳亍-----与-----行-----相似度为：0.04\n",
      "\n",
      "鱼-----与-----书-----相似度为：0.29\n",
      "鱼-----与-----斯-----相似度为：0.13\n",
      "鲤鱼-----与-----家书-----相似度为：0.38\n"
     ]
    }
   ],
   "source": [
    "char_sim(\"滚滚\", \"萧萧\")\n",
    "char_sim(\"滚\", \"萧\")\n",
    "print(\"\")\n",
    "char_sim(\"五柳\", \"彭泽\")\n",
    "char_sim(\"柳\", \"彭\")\n",
    "print(\"\")\n",
    "char_sim(\"丁令威\", \"鹤\")\n",
    "char_sim(\"丁\", \"鹤\")\n",
    "print(\"\")\n",
    "char_sim(\"彳亍\", \"行\")\n",
    "print(\"\")\n",
    "char_sim(\"鱼\", \"书\")\n",
    "char_sim(\"鱼\", \"斯\")\n",
    "char_sim(\"鲤鱼\", \"家书\")"
   ]
  }
 ],
 "metadata": {
  "kernelspec": {
   "display_name": "Python 3",
   "language": "python",
   "name": "python3"
  },
  "language_info": {
   "codemirror_mode": {
    "name": "ipython",
    "version": 3
   },
   "file_extension": ".py",
   "mimetype": "text/x-python",
   "name": "python",
   "nbconvert_exporter": "python",
   "pygments_lexer": "ipython3",
   "version": "3.9.5"
  },
  "orig_nbformat": 4
 },
 "nbformat": 4,
 "nbformat_minor": 2
}
